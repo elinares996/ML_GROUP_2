{
  "cells": [
    {
      "cell_type": "code",
      "execution_count": 64,
      "metadata": {
        "id": "yNOSsw1Z9Afo"
      },
      "outputs": [],
      "source": [
        "#packages\n",
        "import pandas as pd\n",
        "import numpy as np\n",
        "import matplotlib.pyplot as plt\n",
        "import os\n"
      ]
    },
    {
      "cell_type": "code",
      "execution_count": 65,
      "metadata": {
        "id": "oZR5V3CT9Afp"
      },
      "outputs": [],
      "source": [
        "#set object of both datasets\n",
        "earlyYears = pd.read_csv('motor_data11-14lats.csv')\n",
        "laterYears = pd.read_csv('motor_data14-2018.csv')"
      ]
    },
    {
      "cell_type": "code",
      "execution_count": 66,
      "metadata": {
        "colab": {
          "base_uri": "https://localhost:8080/",
          "height": 206
        },
        "id": "KhAAYRKS9Afp",
        "outputId": "e7c1f31b-3921-4173-fd42-bf7e3936df6b"
      },
      "outputs": [
        {
          "data": {
            "text/html": [
              "<div>\n",
              "<style scoped>\n",
              "    .dataframe tbody tr th:only-of-type {\n",
              "        vertical-align: middle;\n",
              "    }\n",
              "\n",
              "    .dataframe tbody tr th {\n",
              "        vertical-align: top;\n",
              "    }\n",
              "\n",
              "    .dataframe thead th {\n",
              "        text-align: right;\n",
              "    }\n",
              "</style>\n",
              "<table border=\"1\" class=\"dataframe\">\n",
              "  <thead>\n",
              "    <tr style=\"text-align: right;\">\n",
              "      <th></th>\n",
              "      <th>S .N</th>\n",
              "      <th>Name</th>\n",
              "      <th>Type</th>\n",
              "      <th>Domain / Levels</th>\n",
              "      <th>Description / representation</th>\n",
              "    </tr>\n",
              "  </thead>\n",
              "  <tbody>\n",
              "    <tr>\n",
              "      <th>0</th>\n",
              "      <td>1</td>\n",
              "      <td>Sex</td>\n",
              "      <td>categorical</td>\n",
              "      <td>0, 1, 2</td>\n",
              "      <td>0 = legal entity, 1 = male,2 = female</td>\n",
              "    </tr>\n",
              "    <tr>\n",
              "      <th>1</th>\n",
              "      <td>2</td>\n",
              "      <td>Season</td>\n",
              "      <td>categorical</td>\n",
              "      <td>autumn, winter, spring, summer</td>\n",
              "      <td>Beginning of contract.</td>\n",
              "    </tr>\n",
              "    <tr>\n",
              "      <th>2</th>\n",
              "      <td>3</td>\n",
              "      <td>Insurance type</td>\n",
              "      <td>categorical</td>\n",
              "      <td>1201, 1202, 1204</td>\n",
              "      <td>1201 = private, 1202 = commercial, 1204 = moto...</td>\n",
              "    </tr>\n",
              "    <tr>\n",
              "      <th>3</th>\n",
              "      <td>4</td>\n",
              "      <td>Type vehicle</td>\n",
              "      <td>categorical</td>\n",
              "      <td>pick-up, truck, bus, ...</td>\n",
              "      <td>Type of vehicle grouped into six categories.</td>\n",
              "    </tr>\n",
              "    <tr>\n",
              "      <th>4</th>\n",
              "      <td>5</td>\n",
              "      <td>Usage</td>\n",
              "      <td>categorical</td>\n",
              "      <td>fare paying passengers, taxi, general cartage,...</td>\n",
              "      <td>A usual usage of the vehicle grouped into six ...</td>\n",
              "    </tr>\n",
              "  </tbody>\n",
              "</table>\n",
              "</div>"
            ],
            "text/plain": [
              "   S .N            Name         Type  \\\n",
              "0     1             Sex  categorical   \n",
              "1     2          Season  categorical   \n",
              "2     3  Insurance type  categorical   \n",
              "3     4    Type vehicle  categorical   \n",
              "4     5           Usage  categorical   \n",
              "\n",
              "                                     Domain / Levels  \\\n",
              "0                                            0, 1, 2   \n",
              "1                     autumn, winter, spring, summer   \n",
              "2                                   1201, 1202, 1204   \n",
              "3                           pick-up, truck, bus, ...   \n",
              "4  fare paying passengers, taxi, general cartage,...   \n",
              "\n",
              "                        Description / representation  \n",
              "0              0 = legal entity, 1 = male,2 = female  \n",
              "1                             Beginning of contract.  \n",
              "2  1201 = private, 1202 = commercial, 1204 = moto...  \n",
              "3       Type of vehicle grouped into six categories.  \n",
              "4  A usual usage of the vehicle grouped into six ...  "
            ]
          },
          "execution_count": 66,
          "metadata": {},
          "output_type": "execute_result"
        }
      ],
      "source": [
        "# Metadata, Need the metadata.csv\n",
        "# Can delete not important\n",
        "metadata = pd.read_csv('Metadata.csv')\n",
        "metadata.head()"
      ]
    },
    {
      "cell_type": "code",
      "execution_count": 67,
      "metadata": {
        "colab": {
          "base_uri": "https://localhost:8080/"
        },
        "id": "0DfThvbe9Afp",
        "outputId": "aadd452a-5688-4362-c4c9-3e96552d2dc8"
      },
      "outputs": [
        {
          "name": "stdout",
          "output_type": "stream",
          "text": [
            "Early Years Dataset Features: Index(['SEX', 'INSR_BEGIN', 'INSR_END', 'EFFECTIVE_YR', 'INSR_TYPE',\n",
            "       'INSURED_VALUE', 'PREMIUM', 'OBJECT_ID', 'PROD_YEAR', 'SEATS_NUM',\n",
            "       'CARRYING_CAPACITY', 'TYPE_VEHICLE', 'CCM_TON', 'MAKE', 'USAGE',\n",
            "       'CLAIM_PAID'],\n",
            "      dtype='object')\n",
            "Later Years Dataset Features: Index(['SEX', 'INSR_BEGIN', 'INSR_END', 'EFFECTIVE_YR', 'INSR_TYPE',\n",
            "       'INSURED_VALUE', 'PREMIUM', 'OBJECT_ID', 'PROD_YEAR', 'SEATS_NUM',\n",
            "       'CARRYING_CAPACITY', 'TYPE_VEHICLE', 'CCM_TON', 'MAKE', 'USAGE',\n",
            "       'CLAIM_PAID'],\n",
            "      dtype='object')\n"
          ]
        }
      ],
      "source": [
        "print(f'Early Years Dataset Features: {earlyYears.columns}')\n",
        "print(f'Later Years Dataset Features: {laterYears.columns}')\n"
      ]
    },
    {
      "cell_type": "code",
      "execution_count": 68,
      "metadata": {
        "colab": {
          "base_uri": "https://localhost:8080/"
        },
        "id": "9hxzoit89Afq",
        "outputId": "c5842b73-6bef-4422-ac22-9b1d4dc1f152"
      },
      "outputs": [
        {
          "name": "stdout",
          "output_type": "stream",
          "text": [
            "<class 'pandas.core.frame.DataFrame'>\n",
            "Index: 802036 entries, 0 to 508498\n",
            "Data columns (total 16 columns):\n",
            " #   Column             Non-Null Count   Dtype  \n",
            "---  ------             --------------   -----  \n",
            " 0   SEX                802036 non-null  int64  \n",
            " 1   INSR_BEGIN         802036 non-null  object \n",
            " 2   INSR_END           802036 non-null  object \n",
            " 3   EFFECTIVE_YR       802032 non-null  object \n",
            " 4   INSR_TYPE          802036 non-null  int64  \n",
            " 5   INSURED_VALUE      802036 non-null  float64\n",
            " 6   PREMIUM            802015 non-null  float64\n",
            " 7   OBJECT_ID          802036 non-null  int64  \n",
            " 8   PROD_YEAR          801867 non-null  float64\n",
            " 9   SEATS_NUM          801801 non-null  float64\n",
            " 10  CARRYING_CAPACITY  603837 non-null  float64\n",
            " 11  TYPE_VEHICLE       802036 non-null  object \n",
            " 12  CCM_TON            802028 non-null  float64\n",
            " 13  MAKE               802031 non-null  object \n",
            " 14  USAGE              802036 non-null  object \n",
            " 15  CLAIM_PAID         60145 non-null   float64\n",
            "dtypes: float64(7), int64(3), object(6)\n",
            "memory usage: 104.0+ MB\n"
          ]
        }
      ],
      "source": [
        "combined = pd.concat([earlyYears, laterYears], join = 'outer')\n",
        "combined.info()"
      ]
    },
    {
      "cell_type": "code",
      "execution_count": 69,
      "metadata": {
        "colab": {
          "base_uri": "https://localhost:8080/",
          "height": 363
        },
        "id": "IEWObfIl9Afq",
        "outputId": "1a502da3-1836-4ef4-e965-25b4854ce5bd"
      },
      "outputs": [
        {
          "data": {
            "text/html": [
              "<div>\n",
              "<style scoped>\n",
              "    .dataframe tbody tr th:only-of-type {\n",
              "        vertical-align: middle;\n",
              "    }\n",
              "\n",
              "    .dataframe tbody tr th {\n",
              "        vertical-align: top;\n",
              "    }\n",
              "\n",
              "    .dataframe thead th {\n",
              "        text-align: right;\n",
              "    }\n",
              "</style>\n",
              "<table border=\"1\" class=\"dataframe\">\n",
              "  <thead>\n",
              "    <tr style=\"text-align: right;\">\n",
              "      <th></th>\n",
              "      <th>SEX</th>\n",
              "      <th>INSR_BEGIN</th>\n",
              "      <th>INSR_END</th>\n",
              "      <th>EFFECTIVE_YR</th>\n",
              "      <th>INSR_TYPE</th>\n",
              "      <th>INSURED_VALUE</th>\n",
              "      <th>PREMIUM</th>\n",
              "      <th>OBJECT_ID</th>\n",
              "      <th>PROD_YEAR</th>\n",
              "      <th>SEATS_NUM</th>\n",
              "      <th>CARRYING_CAPACITY</th>\n",
              "      <th>TYPE_VEHICLE</th>\n",
              "      <th>CCM_TON</th>\n",
              "      <th>MAKE</th>\n",
              "      <th>USAGE</th>\n",
              "      <th>CLAIM_PAID</th>\n",
              "    </tr>\n",
              "  </thead>\n",
              "  <tbody>\n",
              "    <tr>\n",
              "      <th>75084</th>\n",
              "      <td>0</td>\n",
              "      <td>01-JUL-13</td>\n",
              "      <td>30-JUN-14</td>\n",
              "      <td>11</td>\n",
              "      <td>1202</td>\n",
              "      <td>877081.98</td>\n",
              "      <td>8212.80</td>\n",
              "      <td>5000094277</td>\n",
              "      <td>2008.0</td>\n",
              "      <td>4.0</td>\n",
              "      <td>6.0</td>\n",
              "      <td>Pick-up</td>\n",
              "      <td>2986.0</td>\n",
              "      <td>TOYOTA</td>\n",
              "      <td>Own Goods</td>\n",
              "      <td>NaN</td>\n",
              "    </tr>\n",
              "    <tr>\n",
              "      <th>229848</th>\n",
              "      <td>1</td>\n",
              "      <td>04-MAR-15</td>\n",
              "      <td>02-SEP-15</td>\n",
              "      <td>14</td>\n",
              "      <td>1202</td>\n",
              "      <td>1500000.00</td>\n",
              "      <td>10720.28</td>\n",
              "      <td>5000585777</td>\n",
              "      <td>2013.0</td>\n",
              "      <td>1.0</td>\n",
              "      <td>132.0</td>\n",
              "      <td>Truck</td>\n",
              "      <td>9726.0</td>\n",
              "      <td>SINO HOWO</td>\n",
              "      <td>General Cartage</td>\n",
              "      <td>18457.5</td>\n",
              "    </tr>\n",
              "    <tr>\n",
              "      <th>161814</th>\n",
              "      <td>0</td>\n",
              "      <td>19-MAR-14</td>\n",
              "      <td>18-MAR-15</td>\n",
              "      <td>11</td>\n",
              "      <td>1202</td>\n",
              "      <td>403607.56</td>\n",
              "      <td>7307.23</td>\n",
              "      <td>5000228713</td>\n",
              "      <td>2005.0</td>\n",
              "      <td>4.0</td>\n",
              "      <td>10.0</td>\n",
              "      <td>Pick-up</td>\n",
              "      <td>3153.0</td>\n",
              "      <td>NISSAN</td>\n",
              "      <td>Own Goods</td>\n",
              "      <td>NaN</td>\n",
              "    </tr>\n",
              "    <tr>\n",
              "      <th>199350</th>\n",
              "      <td>0</td>\n",
              "      <td>01-JAN-13</td>\n",
              "      <td>31-DEC-13</td>\n",
              "      <td>12</td>\n",
              "      <td>1201</td>\n",
              "      <td>105203.00</td>\n",
              "      <td>1803.00</td>\n",
              "      <td>5000279382</td>\n",
              "      <td>2005.0</td>\n",
              "      <td>4.0</td>\n",
              "      <td>NaN</td>\n",
              "      <td>Automobile</td>\n",
              "      <td>1299.0</td>\n",
              "      <td>TOYOTA</td>\n",
              "      <td>Private</td>\n",
              "      <td>NaN</td>\n",
              "    </tr>\n",
              "    <tr>\n",
              "      <th>22198</th>\n",
              "      <td>0</td>\n",
              "      <td>09-AUG-16</td>\n",
              "      <td>08-AUG-17</td>\n",
              "      <td>12</td>\n",
              "      <td>1201</td>\n",
              "      <td>0.00</td>\n",
              "      <td>898.88</td>\n",
              "      <td>5000032939</td>\n",
              "      <td>2010.0</td>\n",
              "      <td>4.0</td>\n",
              "      <td>NaN</td>\n",
              "      <td>Automobile</td>\n",
              "      <td>1296.0</td>\n",
              "      <td>TOYOTA</td>\n",
              "      <td>Private</td>\n",
              "      <td>NaN</td>\n",
              "    </tr>\n",
              "    <tr>\n",
              "      <th>449632</th>\n",
              "      <td>0</td>\n",
              "      <td>22-FEB-17</td>\n",
              "      <td>21-FEB-18</td>\n",
              "      <td>17</td>\n",
              "      <td>1201</td>\n",
              "      <td>0.00</td>\n",
              "      <td>216.20</td>\n",
              "      <td>5001031854</td>\n",
              "      <td>2016.0</td>\n",
              "      <td>1.0</td>\n",
              "      <td>NaN</td>\n",
              "      <td>Motor-cycle</td>\n",
              "      <td>150.0</td>\n",
              "      <td>LIFAN</td>\n",
              "      <td>Private</td>\n",
              "      <td>NaN</td>\n",
              "    </tr>\n",
              "    <tr>\n",
              "      <th>321745</th>\n",
              "      <td>1</td>\n",
              "      <td>24-MAR-15</td>\n",
              "      <td>23-MAR-16</td>\n",
              "      <td>15</td>\n",
              "      <td>1202</td>\n",
              "      <td>0.00</td>\n",
              "      <td>354.60</td>\n",
              "      <td>5000731770</td>\n",
              "      <td>2014.0</td>\n",
              "      <td>3.0</td>\n",
              "      <td>0.0</td>\n",
              "      <td>Motor-cycle</td>\n",
              "      <td>200.0</td>\n",
              "      <td>TVS</td>\n",
              "      <td>Fare Paying Passengers</td>\n",
              "      <td>NaN</td>\n",
              "    </tr>\n",
              "    <tr>\n",
              "      <th>370577</th>\n",
              "      <td>2</td>\n",
              "      <td>26-DEC-15</td>\n",
              "      <td>25-DEC-16</td>\n",
              "      <td>15</td>\n",
              "      <td>1201</td>\n",
              "      <td>280000.00</td>\n",
              "      <td>659.30</td>\n",
              "      <td>5000825211</td>\n",
              "      <td>1997.0</td>\n",
              "      <td>4.0</td>\n",
              "      <td>NaN</td>\n",
              "      <td>Automobile</td>\n",
              "      <td>1296.0</td>\n",
              "      <td>TOYOTA</td>\n",
              "      <td>Private</td>\n",
              "      <td>NaN</td>\n",
              "    </tr>\n",
              "    <tr>\n",
              "      <th>288926</th>\n",
              "      <td>0</td>\n",
              "      <td>11-MAR-17</td>\n",
              "      <td>10-MAR-18</td>\n",
              "      <td>12</td>\n",
              "      <td>1202</td>\n",
              "      <td>0.00</td>\n",
              "      <td>1178.08</td>\n",
              "      <td>5000680262</td>\n",
              "      <td>2011.0</td>\n",
              "      <td>4.0</td>\n",
              "      <td>7.0</td>\n",
              "      <td>Pick-up</td>\n",
              "      <td>3153.0</td>\n",
              "      <td>TOYOTA</td>\n",
              "      <td>Own Goods</td>\n",
              "      <td>NaN</td>\n",
              "    </tr>\n",
              "    <tr>\n",
              "      <th>246451</th>\n",
              "      <td>1</td>\n",
              "      <td>14-MAY-17</td>\n",
              "      <td>13-MAY-18</td>\n",
              "      <td>14</td>\n",
              "      <td>1202</td>\n",
              "      <td>950000.00</td>\n",
              "      <td>13815.80</td>\n",
              "      <td>5000601985</td>\n",
              "      <td>2014.0</td>\n",
              "      <td>2.0</td>\n",
              "      <td>28.0</td>\n",
              "      <td>Truck</td>\n",
              "      <td>4570.0</td>\n",
              "      <td>ISUZU</td>\n",
              "      <td>Own Goods</td>\n",
              "      <td>77657.8</td>\n",
              "    </tr>\n",
              "  </tbody>\n",
              "</table>\n",
              "</div>"
            ],
            "text/plain": [
              "        SEX INSR_BEGIN   INSR_END EFFECTIVE_YR  INSR_TYPE  INSURED_VALUE  \\\n",
              "75084     0  01-JUL-13  30-JUN-14           11       1202      877081.98   \n",
              "229848    1  04-MAR-15  02-SEP-15           14       1202     1500000.00   \n",
              "161814    0  19-MAR-14  18-MAR-15           11       1202      403607.56   \n",
              "199350    0  01-JAN-13  31-DEC-13           12       1201      105203.00   \n",
              "22198     0  09-AUG-16  08-AUG-17           12       1201           0.00   \n",
              "449632    0  22-FEB-17  21-FEB-18           17       1201           0.00   \n",
              "321745    1  24-MAR-15  23-MAR-16           15       1202           0.00   \n",
              "370577    2  26-DEC-15  25-DEC-16           15       1201      280000.00   \n",
              "288926    0  11-MAR-17  10-MAR-18           12       1202           0.00   \n",
              "246451    1  14-MAY-17  13-MAY-18           14       1202      950000.00   \n",
              "\n",
              "         PREMIUM   OBJECT_ID  PROD_YEAR  SEATS_NUM  CARRYING_CAPACITY  \\\n",
              "75084    8212.80  5000094277     2008.0        4.0                6.0   \n",
              "229848  10720.28  5000585777     2013.0        1.0              132.0   \n",
              "161814   7307.23  5000228713     2005.0        4.0               10.0   \n",
              "199350   1803.00  5000279382     2005.0        4.0                NaN   \n",
              "22198     898.88  5000032939     2010.0        4.0                NaN   \n",
              "449632    216.20  5001031854     2016.0        1.0                NaN   \n",
              "321745    354.60  5000731770     2014.0        3.0                0.0   \n",
              "370577    659.30  5000825211     1997.0        4.0                NaN   \n",
              "288926   1178.08  5000680262     2011.0        4.0                7.0   \n",
              "246451  13815.80  5000601985     2014.0        2.0               28.0   \n",
              "\n",
              "       TYPE_VEHICLE  CCM_TON       MAKE                   USAGE  CLAIM_PAID  \n",
              "75084       Pick-up   2986.0     TOYOTA               Own Goods         NaN  \n",
              "229848        Truck   9726.0  SINO HOWO         General Cartage     18457.5  \n",
              "161814      Pick-up   3153.0     NISSAN               Own Goods         NaN  \n",
              "199350   Automobile   1299.0     TOYOTA                 Private         NaN  \n",
              "22198    Automobile   1296.0     TOYOTA                 Private         NaN  \n",
              "449632  Motor-cycle    150.0      LIFAN                 Private         NaN  \n",
              "321745  Motor-cycle    200.0        TVS  Fare Paying Passengers         NaN  \n",
              "370577   Automobile   1296.0     TOYOTA                 Private         NaN  \n",
              "288926      Pick-up   3153.0     TOYOTA               Own Goods         NaN  \n",
              "246451        Truck   4570.0      ISUZU               Own Goods     77657.8  "
            ]
          },
          "execution_count": 69,
          "metadata": {},
          "output_type": "execute_result"
        }
      ],
      "source": [
        "combined.sample(10)"
      ]
    },
    {
      "cell_type": "code",
      "execution_count": 70,
      "metadata": {
        "colab": {
          "base_uri": "https://localhost:8080/"
        },
        "id": "4nSB5mT19Afq",
        "outputId": "6d25d939-97f0-46f0-c984-8d7ab5bcfea4"
      },
      "outputs": [
        {
          "data": {
            "text/plain": [
              "SEX                       0\n",
              "INSR_BEGIN                0\n",
              "INSR_END                  0\n",
              "EFFECTIVE_YR              4\n",
              "INSR_TYPE                 0\n",
              "INSURED_VALUE             0\n",
              "PREMIUM                  21\n",
              "OBJECT_ID                 0\n",
              "PROD_YEAR               169\n",
              "SEATS_NUM               235\n",
              "CARRYING_CAPACITY    198199\n",
              "TYPE_VEHICLE              0\n",
              "CCM_TON                   8\n",
              "MAKE                      5\n",
              "USAGE                     0\n",
              "CLAIM_PAID           741891\n",
              "dtype: int64"
            ]
          },
          "execution_count": 70,
          "metadata": {},
          "output_type": "execute_result"
        }
      ],
      "source": [
        "# Show the null values\n",
        "combined.isnull().sum()\n",
        "# CLAIM_PAID null can be filled with 0's\n",
        "# Carrying Capacity might need to be dropped"
      ]
    },
    {
      "cell_type": "code",
      "execution_count": 71,
      "metadata": {
        "colab": {
          "base_uri": "https://localhost:8080/",
          "height": 363
        },
        "id": "8zjSebCG9Afq",
        "outputId": "94b656a5-86cb-4ecc-ad38-58bc3bce150f"
      },
      "outputs": [
        {
          "data": {
            "text/html": [
              "<div>\n",
              "<style scoped>\n",
              "    .dataframe tbody tr th:only-of-type {\n",
              "        vertical-align: middle;\n",
              "    }\n",
              "\n",
              "    .dataframe tbody tr th {\n",
              "        vertical-align: top;\n",
              "    }\n",
              "\n",
              "    .dataframe thead th {\n",
              "        text-align: right;\n",
              "    }\n",
              "</style>\n",
              "<table border=\"1\" class=\"dataframe\">\n",
              "  <thead>\n",
              "    <tr style=\"text-align: right;\">\n",
              "      <th></th>\n",
              "      <th>SEX</th>\n",
              "      <th>INSR_BEGIN</th>\n",
              "      <th>INSR_END</th>\n",
              "      <th>EFFECTIVE_YR</th>\n",
              "      <th>INSR_TYPE</th>\n",
              "      <th>INSURED_VALUE</th>\n",
              "      <th>PREMIUM</th>\n",
              "      <th>OBJECT_ID</th>\n",
              "      <th>PROD_YEAR</th>\n",
              "      <th>SEATS_NUM</th>\n",
              "      <th>CARRYING_CAPACITY</th>\n",
              "      <th>TYPE_VEHICLE</th>\n",
              "      <th>CCM_TON</th>\n",
              "      <th>MAKE</th>\n",
              "      <th>USAGE</th>\n",
              "      <th>CLAIM_PAID</th>\n",
              "    </tr>\n",
              "  </thead>\n",
              "  <tbody>\n",
              "    <tr>\n",
              "      <th>188492</th>\n",
              "      <td>0</td>\n",
              "      <td>01-JAN-17</td>\n",
              "      <td>31-DEC-17</td>\n",
              "      <td>12</td>\n",
              "      <td>1202</td>\n",
              "      <td>0.0</td>\n",
              "      <td>1248.920</td>\n",
              "      <td>5000413938</td>\n",
              "      <td>2011.0</td>\n",
              "      <td>5.0</td>\n",
              "      <td>5.0</td>\n",
              "      <td>Pick-up</td>\n",
              "      <td>2896.00</td>\n",
              "      <td>TOYOTA</td>\n",
              "      <td>Own Goods</td>\n",
              "      <td>0.0</td>\n",
              "    </tr>\n",
              "    <tr>\n",
              "      <th>320300</th>\n",
              "      <td>1</td>\n",
              "      <td>21-APR-15</td>\n",
              "      <td>20-APR-16</td>\n",
              "      <td>15</td>\n",
              "      <td>1202</td>\n",
              "      <td>0.0</td>\n",
              "      <td>354.600</td>\n",
              "      <td>5000741401</td>\n",
              "      <td>2013.0</td>\n",
              "      <td>3.0</td>\n",
              "      <td>3.0</td>\n",
              "      <td>Motor-cycle</td>\n",
              "      <td>199.26</td>\n",
              "      <td>BAJAJI</td>\n",
              "      <td>Taxi</td>\n",
              "      <td>0.0</td>\n",
              "    </tr>\n",
              "    <tr>\n",
              "      <th>25923</th>\n",
              "      <td>0</td>\n",
              "      <td>10-JUL-11</td>\n",
              "      <td>09-JUL-12</td>\n",
              "      <td>06</td>\n",
              "      <td>1202</td>\n",
              "      <td>1252300.0</td>\n",
              "      <td>9030.603</td>\n",
              "      <td>5000032841</td>\n",
              "      <td>2007.0</td>\n",
              "      <td>1.0</td>\n",
              "      <td>152.0</td>\n",
              "      <td>Truck</td>\n",
              "      <td>11149.00</td>\n",
              "      <td>HYUNDAI</td>\n",
              "      <td>Own Goods</td>\n",
              "      <td>0.0</td>\n",
              "    </tr>\n",
              "    <tr>\n",
              "      <th>37296</th>\n",
              "      <td>0</td>\n",
              "      <td>01-JUL-14</td>\n",
              "      <td>30-JUN-15</td>\n",
              "      <td>99</td>\n",
              "      <td>1202</td>\n",
              "      <td>147732.0</td>\n",
              "      <td>2495.620</td>\n",
              "      <td>5000042571</td>\n",
              "      <td>1996.0</td>\n",
              "      <td>4.0</td>\n",
              "      <td>7.0</td>\n",
              "      <td>Pick-up</td>\n",
              "      <td>2779.00</td>\n",
              "      <td>TOYOTA</td>\n",
              "      <td>Own Goods</td>\n",
              "      <td>0.0</td>\n",
              "    </tr>\n",
              "    <tr>\n",
              "      <th>263838</th>\n",
              "      <td>1</td>\n",
              "      <td>25-JUN-13</td>\n",
              "      <td>24-JUN-14</td>\n",
              "      <td>13</td>\n",
              "      <td>1202</td>\n",
              "      <td>0.0</td>\n",
              "      <td>4515.150</td>\n",
              "      <td>5000486813</td>\n",
              "      <td>2010.0</td>\n",
              "      <td>2.0</td>\n",
              "      <td>0.0</td>\n",
              "      <td>Truck</td>\n",
              "      <td>4570.00</td>\n",
              "      <td>ISUZU</td>\n",
              "      <td>General Cartage</td>\n",
              "      <td>0.0</td>\n",
              "    </tr>\n",
              "    <tr>\n",
              "      <th>111352</th>\n",
              "      <td>1</td>\n",
              "      <td>03-JAN-18</td>\n",
              "      <td>02-JAN-19</td>\n",
              "      <td>15</td>\n",
              "      <td>1202</td>\n",
              "      <td>0.0</td>\n",
              "      <td>4514.500</td>\n",
              "      <td>5000190773</td>\n",
              "      <td>2010.0</td>\n",
              "      <td>2.0</td>\n",
              "      <td>0.0</td>\n",
              "      <td>Truck</td>\n",
              "      <td>8226.00</td>\n",
              "      <td>ISUZU</td>\n",
              "      <td>General Cartage</td>\n",
              "      <td>0.0</td>\n",
              "    </tr>\n",
              "    <tr>\n",
              "      <th>61092</th>\n",
              "      <td>0</td>\n",
              "      <td>08-JUL-15</td>\n",
              "      <td>07-JUL-16</td>\n",
              "      <td>13</td>\n",
              "      <td>1202</td>\n",
              "      <td>600000.0</td>\n",
              "      <td>6467.400</td>\n",
              "      <td>5000087869</td>\n",
              "      <td>2006.0</td>\n",
              "      <td>0.0</td>\n",
              "      <td>220.8</td>\n",
              "      <td>Trailers and semitrailers</td>\n",
              "      <td>0.00</td>\n",
              "      <td>MESFIN</td>\n",
              "      <td>General Cartage</td>\n",
              "      <td>0.0</td>\n",
              "    </tr>\n",
              "    <tr>\n",
              "      <th>472913</th>\n",
              "      <td>0</td>\n",
              "      <td>02-JUL-17</td>\n",
              "      <td>01-JUL-18</td>\n",
              "      <td>17</td>\n",
              "      <td>1202</td>\n",
              "      <td>0.0</td>\n",
              "      <td>443.900</td>\n",
              "      <td>5001096102</td>\n",
              "      <td>2016.0</td>\n",
              "      <td>0.0</td>\n",
              "      <td>200.0</td>\n",
              "      <td>Trailers and semitrailers</td>\n",
              "      <td>0.00</td>\n",
              "      <td>BARTOLETI</td>\n",
              "      <td>Own Goods</td>\n",
              "      <td>0.0</td>\n",
              "    </tr>\n",
              "    <tr>\n",
              "      <th>132199</th>\n",
              "      <td>0</td>\n",
              "      <td>01-JUL-17</td>\n",
              "      <td>30-JUN-18</td>\n",
              "      <td>12</td>\n",
              "      <td>1202</td>\n",
              "      <td>1000000.0</td>\n",
              "      <td>3708.290</td>\n",
              "      <td>5000250192</td>\n",
              "      <td>2000.0</td>\n",
              "      <td>1.0</td>\n",
              "      <td>1.0</td>\n",
              "      <td>Special construction</td>\n",
              "      <td>14886.00</td>\n",
              "      <td>CAT</td>\n",
              "      <td>Own Goods</td>\n",
              "      <td>0.0</td>\n",
              "    </tr>\n",
              "    <tr>\n",
              "      <th>488071</th>\n",
              "      <td>1</td>\n",
              "      <td>26-DEC-17</td>\n",
              "      <td>25-JAN-18</td>\n",
              "      <td>22</td>\n",
              "      <td>1201</td>\n",
              "      <td>400000.0</td>\n",
              "      <td>386.170</td>\n",
              "      <td>5001185721</td>\n",
              "      <td>2004.0</td>\n",
              "      <td>4.0</td>\n",
              "      <td>NaN</td>\n",
              "      <td>Automobile</td>\n",
              "      <td>997.00</td>\n",
              "      <td>TOYOTA</td>\n",
              "      <td>Private</td>\n",
              "      <td>0.0</td>\n",
              "    </tr>\n",
              "  </tbody>\n",
              "</table>\n",
              "</div>"
            ],
            "text/plain": [
              "        SEX INSR_BEGIN   INSR_END EFFECTIVE_YR  INSR_TYPE  INSURED_VALUE  \\\n",
              "188492    0  01-JAN-17  31-DEC-17           12       1202            0.0   \n",
              "320300    1  21-APR-15  20-APR-16           15       1202            0.0   \n",
              "25923     0  10-JUL-11  09-JUL-12           06       1202      1252300.0   \n",
              "37296     0  01-JUL-14  30-JUN-15           99       1202       147732.0   \n",
              "263838    1  25-JUN-13  24-JUN-14           13       1202            0.0   \n",
              "111352    1  03-JAN-18  02-JAN-19           15       1202            0.0   \n",
              "61092     0  08-JUL-15  07-JUL-16           13       1202       600000.0   \n",
              "472913    0  02-JUL-17  01-JUL-18           17       1202            0.0   \n",
              "132199    0  01-JUL-17  30-JUN-18           12       1202      1000000.0   \n",
              "488071    1  26-DEC-17  25-JAN-18           22       1201       400000.0   \n",
              "\n",
              "         PREMIUM   OBJECT_ID  PROD_YEAR  SEATS_NUM  CARRYING_CAPACITY  \\\n",
              "188492  1248.920  5000413938     2011.0        5.0                5.0   \n",
              "320300   354.600  5000741401     2013.0        3.0                3.0   \n",
              "25923   9030.603  5000032841     2007.0        1.0              152.0   \n",
              "37296   2495.620  5000042571     1996.0        4.0                7.0   \n",
              "263838  4515.150  5000486813     2010.0        2.0                0.0   \n",
              "111352  4514.500  5000190773     2010.0        2.0                0.0   \n",
              "61092   6467.400  5000087869     2006.0        0.0              220.8   \n",
              "472913   443.900  5001096102     2016.0        0.0              200.0   \n",
              "132199  3708.290  5000250192     2000.0        1.0                1.0   \n",
              "488071   386.170  5001185721     2004.0        4.0                NaN   \n",
              "\n",
              "                     TYPE_VEHICLE   CCM_TON       MAKE            USAGE  \\\n",
              "188492                    Pick-up   2896.00     TOYOTA        Own Goods   \n",
              "320300                Motor-cycle    199.26     BAJAJI             Taxi   \n",
              "25923                       Truck  11149.00    HYUNDAI        Own Goods   \n",
              "37296                     Pick-up   2779.00     TOYOTA        Own Goods   \n",
              "263838                      Truck   4570.00      ISUZU  General Cartage   \n",
              "111352                      Truck   8226.00      ISUZU  General Cartage   \n",
              "61092   Trailers and semitrailers      0.00     MESFIN  General Cartage   \n",
              "472913  Trailers and semitrailers      0.00  BARTOLETI        Own Goods   \n",
              "132199       Special construction  14886.00        CAT        Own Goods   \n",
              "488071                 Automobile    997.00     TOYOTA          Private   \n",
              "\n",
              "        CLAIM_PAID  \n",
              "188492         0.0  \n",
              "320300         0.0  \n",
              "25923          0.0  \n",
              "37296          0.0  \n",
              "263838         0.0  \n",
              "111352         0.0  \n",
              "61092          0.0  \n",
              "472913         0.0  \n",
              "132199         0.0  \n",
              "488071         0.0  "
            ]
          },
          "execution_count": 71,
          "metadata": {},
          "output_type": "execute_result"
        }
      ],
      "source": [
        "#replacing nan values with 0 to use\n",
        "combined['CLAIM_PAID'] = combined['CLAIM_PAID'].replace({np.nan : 0})\n",
        "#changing values using regex operators to be used in ML model\n",
        "combined['EFFECTIVE_YR'] = combined['EFFECTIVE_YR'].replace(['/', '-', 'B', 'S', 'R', 'EN', 'MO', 'IN', 'SS', 'RS', 'SR', 'EA', 'BS', '4A', '1A', '1K', '1M', '2A', '1C', '6A', '5A', '3A', '5C', '7A'], np.nan, regex=True)\n",
        "combined.sample(10)\n"
      ]
    },
    {
      "cell_type": "code",
      "execution_count": 72,
      "metadata": {
        "colab": {
          "base_uri": "https://localhost:8080/"
        },
        "id": "pyVgyY_h9Afq",
        "outputId": "9059f175-dbbc-4223-f37e-28540a1cc6da"
      },
      "outputs": [
        {
          "data": {
            "text/plain": [
              "SEX                  0\n",
              "INSR_BEGIN           0\n",
              "INSR_END             0\n",
              "EFFECTIVE_YR         0\n",
              "INSR_TYPE            0\n",
              "INSURED_VALUE        0\n",
              "PREMIUM              0\n",
              "OBJECT_ID            0\n",
              "PROD_YEAR            0\n",
              "SEATS_NUM            0\n",
              "CARRYING_CAPACITY    0\n",
              "TYPE_VEHICLE         0\n",
              "CCM_TON              0\n",
              "MAKE                 0\n",
              "USAGE                0\n",
              "CLAIM_PAID           0\n",
              "dtype: int64"
            ]
          },
          "execution_count": 72,
          "metadata": {},
          "output_type": "execute_result"
        }
      ],
      "source": [
        "combined = combined.dropna()\n",
        "combined.isnull().sum()"
      ]
    },
    {
      "cell_type": "code",
      "execution_count": 73,
      "metadata": {
        "colab": {
          "base_uri": "https://localhost:8080/"
        },
        "id": "J0JYwZ4L9Afq",
        "outputId": "3d3e041b-1597-42b8-c76a-7b2318fbac8f"
      },
      "outputs": [
        {
          "name": "stdout",
          "output_type": "stream",
          "text": [
            "Unique Values in INSR_TYPE: \n",
            " [1202 1201 1204]\n",
            "Unique Values in TYPE_VEHICLE: \n",
            "['Pick-up' 'Truck' 'Bus' 'Tanker' 'Trailers and semitrailers' 'Automobile'\n",
            " 'Motor-cycle' 'Tractor' 'Station Wagones' 'Special construction'\n",
            " 'Trade plates']\n",
            "Unique Values in MAKE: \n",
            "['NISSAN' 'TOYOTA' 'IVECO' 'MITSUBISHI' 'FIAT' 'MARU' 'ISUZU' 'MERCEDES'\n",
            " 'YAMAHA' 'MESFIN' 'CALABRASE' 'DAF' 'FARID' 'TRAILER' 'SINO' 'ISUSU'\n",
            " 'HOWO' 'HIGHER' 'ZZ' 'ISUZU FVR' 'FORD' 'PEUGEOT' 'TOMSON' 'MERCEEDES'\n",
            " 'DAEWOO' 'VIBERTI' 'CALABRESE' 'ROZA' 'JIEFANG' 'RENAULT' 'CRANE'\n",
            " 'TURBO BUS' 'BISHOFTU' 'SCANIA' 'TRAKKER' 'SCHMITZ' 'NATFA' 'ROLFO'\n",
            " 'INTERNATIONAL USE' 'MAZDA' 'NEW HOLLAND' 'NEW HOLAND' 'TURBO' 'MACK'\n",
            " 'MTE' 'ORAL' 'DUNGFING' 'SUZUKI' 'HYUNDAI' 'NAMI' 'NISSAN UD' 'VOLVO'\n",
            " 'HIGER BUS' 'AEOLUS' 'TATA' '330-30 TRA' 'EU. TRAILER' 'HINO' 'VERYCA'\n",
            " 'AMBULANCE' 'ADGE' 'LOWBED' 'LADA' 'CHEVROLET' 'MERCEEDICE' 'CACCIAMALLI'\n",
            " 'DAYUN' 'BELARUS' 'VOLKS WAGON' 'RANDON' 'GMC' 'CORDES'\n",
            " 'HIGH BED TRAILER' 'KIA' '330-30 TRAILER' 'ILSBO' 'ASTRA' 'BARTOLETI'\n",
            " 'FOTON' 'AUDI' 'INTERNATIONAL' 'LANDROVER' ' DONG FENG' 'SINO HOWO'\n",
            " 'BOXER' 'BAJAJI' 'DAMAS' 'BMW' 'BELARUS TRACTOR' 'DAWOO' 'WHEEL LOADER'\n",
            " 'VOLKSWAGON' 'MAHINDRA' 'TRUCK' 'OTOYOL' 'Volvo' 'PREGIO' 'DACIA'\n",
            " 'JIN BEI' 'RAPID INTERVENSION' 'MAZ' 'ZORZI' 'ME' 'ETHIOPIA' 'HIGER'\n",
            " 'GAME' 'MASSENZA' 'ATOZ' 'TVS' 'ZX-TOP' 'LAND CRUISER'\n",
            " 'SUGERCANE TRAILER' 'STEYER' 'DATSUN' 'MERCHEDES' 'COMBI' 'LEXUS'\n",
            " 'TRACTOR TRAILER' 'SOCOOL' 'JAC' 'LISBO' 'BAJAJ' 'ZEPPLIN' 'LIFAN' 'ABAY'\n",
            " 'ZONGSHEN' 'T0Y0TA' 'CLASS' 'BRIDGE' 'M 29' 'SKY BUS' 'KAMAZ' 'KAMZ'\n",
            " 'GRADER' 'EXCAVATOR' 'LOADER' 'DOZER' 'TRAKER' 'LAND ROVER' 'MINI BUS'\n",
            " 'GEELY' 'MAHANDRA' 'PLATENA' 'CATERPILLAR' 'ARMORDE'\n",
            " 'CHINA SPECIAL SEMI TRAILER' 'CATERPILLAR TRACTOR' 'ROLLER' 'VOLKSWAGEN'\n",
            " 'S.T' 'S.T.TRAILER' 'AUTO' 'WINEGEL' 'P/UP' 'BEBEN SEMI TRAILER'\n",
            " 'JOHN DEER' 'BELL TRACTOR' 'JOHNDEER' 'BELL' 'FAW' 'FOTTON'\n",
            " 'RENAULT/STOLARCZYK' 'S.T TRA' 'S.T TR' 'S.T TRA.' 'HONDA' '330-30 TR'\n",
            " 'MAN' 'MASSY FUREGUSON' 'SAMI' 'VITZ' 'RED FOX' 'CAT DOZER'\n",
            " 'VIBRATION ROLLER' 'CACCAMALI' 'TRACTOR' 'ZMAY' 'CASE' 'VERCYA' 'KAT'\n",
            " 'HONGYAN' 'DUNGFINF' 'FORCE' 'LANDINI' 'TALER'\n",
            " 'DANDO GEATECH 7.5 HYDOLIC TOP ROTATYING' 'AFRO' 'GREAT WALL' 'VERSATILE'\n",
            " 'POWER PLUS DOSER' 'POWER PLUS DOZER' 'NIO' 'WHEELL LOADER' 'WUCING'\n",
            " 'TAXI' 'FORLAND' 'CHINA' 'DIAHATSU' 'CHANGHE' 'GORICA' 'LANJIAN'\n",
            " 'EMGTAND' 'CAT' 'ZONGUSHEN' 'CORE DRILLING RING' '1982' 'PAGOT' 'STAYER'\n",
            " 'SRAYER' 'CHANA' 'TECHALE' 'DANGIFAN' 'LONGJIANG' 'LOW BED' 'BRASIL'\n",
            " 'IFA' 'SKODA' 'DUMPING CAR' 'CAMZ' 'ROLD' 'DUMPER CAR' 'WATERING CAR'\n",
            " 'DORSEY' 'SPAIN' 'BAWER' 'CLASS COMBINE' 'REFREGERATOR' 'REFREGIRATOR'\n",
            " 'RIG' 'GENLYON' 'MIXER' 'OPEL' 'PANEL VAN' 'KORANDO' 'ZOOM LION CRANE'\n",
            " 'PLATEFORM' 'JEEP' 'YALE' 'ENGLAND TRACTOR' 'KATO' 'DONFING' 'ZHENG'\n",
            " 'FIAT-OM' 'VOWS WAGEN' '1985' ' HERO' 'JAK' 'ZOYTE' 'MASIL FERGUSAN'\n",
            " 'BACK LOADER' 'ADDIS GEELY' 'IVECO/CHINA' 'HAMVE' 'WAZ' 'KOREA'\n",
            " 'SPECIAL BUS FOR TOW & MAINTENANCE' 'SPECIAL TRUCK FOR TOW & MAINTENANCE'\n",
            " 'ZILE SHOPAN' 'ZTLTRUCK' 'WATER PUMP' 'V.W' 'ZIL' 'RAMP' 'TRATTORE'\n",
            " 'PASSAT' 'ZOTYE' ' BEBIEN TANKER' 'GELION' 'BMC' '2011' 'BOX' 'LIZE'\n",
            " 'INDOFARMO' 'SINALIKE' ' TRAKKER 380' 'KYRON' 'AIRCARGO MOBILE TRUCK'\n",
            " 'KANIYO' 'LANCHA' 'GMS' 'SINO TRUCK' 'CO' 'UNKNOWN' 'SUNLONGBUS' 'RUSSIA'\n",
            " 'EICHER' 'YOUNGMAN' 'KUTA' 'JMC' 'SUNLONG' 'SHACMAN' 'ZAMAJ' 'FPRD'\n",
            " 'HOBGYANSTYER' 'CALBRESE' 'BISHEFTU' 'LITON' 'SHNAY'\n",
            " 'CHINA SPECIAL POWER TRUCK' 'KING LONG' 'ZOBLE' 'CHARRY' 'YVS' 'JERMEN'\n",
            " 'LONG JIANG' 'UD' 'CARENZI' 'RUSIA' 'CRAIN' 'CRAIN/TRUCK' 'KATO CRANE'\n",
            " 'TRACTOR BELARUS' 'KATO CRAN' 'HAFREI' 'HAFEI RULY' 'DEUTZ FAHR'\n",
            " 'COMATSU GRADER' 'KATO EXCAVATOR' 'TOYOTA PICK-UP' 'HOYGYAN' 'DUMP TRUCK'\n",
            " 'MANITUD' 'SHANTU EXCAVATOR' 'RENALT' 'DUBI' 'BAYBEN TRUCK HIGHBED'\n",
            " 'COROLLA' 'TANKER' 'SHANTU' 'LIBER DOZER' 'LIBER' 'JONDIR' 'GENLYONIVECO'\n",
            " 'BEBEN' 'EURO TRUCKER' 'DONGFENG' 'TRACTOR 4WD' 'TRACTOR4WD' 'BUS'\n",
            " 'MIDBUS' 'VAN TRUCK' 'ARTICULATED DUMP TRUCK' 'JAC DUMP' 'SONALIKA'\n",
            " 'CRANE 60 TON' 'YOUTONG' 'ARTICULATED TRACTOR' 'HYSTER' 'BEL TRACTOR'\n",
            " 'YUTONG' 'HUANGHA' 'KATO CRAIN' 'OHNDEERE' 'MOBILE CRANE' 'ZNA'\n",
            " 'FRANKUN IVECO' 'HANVE' 'UAI' 'AU' 'CHENGLONG MOTOR OF CHINA' 'ZUNGSHUN'\n",
            " 'IVECO/ASTRA' 'CO BUS' 'TOYOTA L/CRUISER' 'LONG BASE TRAILER' 'FORK LIFT'\n",
            " 'CALDINESS FORK LIFTS' 'NISAN' 'BISHOFTU/FAW' 'CRANEXCMG' 'BISHOFTUKAMA'\n",
            " 'FAWO WATER TRUCK' 'TELESCOPIC' 'ARTICULATED' 'APACHE' 'XCMG' 'DISCOVER'\n",
            " 'CRANE ZUMLIN' 'CRANE ZUMLIN 70 TON' 'TAGRO' 'EUROSTAR'\n",
            " 'TELESCOPIC HANDLER' 'ZIP STAR' 'GREDER' 'DIZER' 'CRANE ZOOMLION'\n",
            " 'WHEEL EXCAVATOR' 'TELESCPIC HANDLER' 'TOWER CRANE ELECTRICAL' 'DOZERS'\n",
            " 'UAE' 'CATO' 'ZUMLIN CRANE' 'MAMMUT' 'MIXCER' 'GROVE' 'MF5340' 'YTO'\n",
            " 'ACHIVER' 'ACHIVE' 'VERSATILE TRACTOR' 'HANDLER FORCIFT'\n",
            " 'HANDLER FORCLIFT' 'SINOTRUK' 'CARGO' 'SANY' 'LANOS' 'ZOOMLIN CRANE'\n",
            " 'APACHE RTR' 'FORKLIFT' 'KOMATSU' 'GERMANY' 'DIMAG CRANE' 'JCB WORK MAX'\n",
            " 'MOTOR CYCLE' 'MERCEDES/SANY' 'CAT EXCAVATOR' 'DEAWOO' 'HYDROLIC'\n",
            " 'DIFENDER' 'DEAWOO USE' 'DAWWO' 'FORD CARGO' 'FORD CORGO' 'DSIT' 'PULSAR'\n",
            " 'GELYION' 'RIO JAMES' 'RIO JAMES TRUCK PALLET'\n",
            " '3-AXEL DRAWBAR CARGO TRAILER' 'WATERWELL' 'MESIFIN' 'RENGE  ROVER'\n",
            " 'DAHATSUN' 'VAN' 'KAINUO' '3-AXLE DRAWBAR CARGO TRAILER'\n",
            " 'LIBERR MOBILECRANE' 'LIBERR MOBILE CRANE' 'LIEBERR MOBILE CRANE' '*'\n",
            " 'POWER PLUSE TIPPER' 'SINOTRUCK' 'ITALY' 'ENGLAND' 'RENUALT'\n",
            " 'LAND SCRAPER' 'HIGHBIN HIGHBAD' 'SCHACMAN' 'SEECOME' 'DAW BUS'\n",
            " 'SINOTRUK HOWO' 'DONGFANG' 'PAWOR PLAS TIPPER' 'MOBILE GUARAGE' 'MIE'\n",
            " 'KM.UAG' 'TOYOTA HILUX' 'HIGH BED' 'LOBED' 'HIGHBENCARGOTRAUCK'\n",
            " 'HIGBAN HIGHBAD' 'BAYBEN HIGHBAD' 'BAYBEN HIGHBAD TRAILER'\n",
            " 'POWER PLUS DAMP' 'KUBOTA' 'KAMA MINI TRUCK' 'TOYOTA P/UP' 'KIYA'\n",
            " 'BEBEN HIGHBAD' 'SINO BISHOFTU' 'POWER PLUS TRUCK' 'LOBADE TRUCK'\n",
            " 'LOBED TRAILER' 'YUTONG BUS' 'BISHOFTU PICK UP' 'RANGE ROVER' 'HERO'\n",
            " 'CRANE TRUCK' 'POWER PLUS DAM TRUCK' 'DX' 'FORD TRUCK'\n",
            " 'BISHOFTU P/UP D/CAB' 'ZALANGE' 'TOYOTA JAPAN' 'FAW/BISHOFTU'\n",
            " 'TOYOTA REVO HILUX' 'URSUS' 'LOW LOADER SEMI-TRAILERS(AXEL WHEEL 12'\n",
            " 'ARBE EMERET' 'HUYBED' 'YTO TRACTOR' 'CATERPLER' 'OZSAN TREYLER'\n",
            " 'CANEHAULAGE' 'CRAWLER EXCAVATOR' 'AXION' 'HILUX' 'IVECO CRANE'\n",
            " 'ISUZU NPRP' 'ALAMI' 'POWER PLUS DAM' 'WETER TRUCK STAYER'\n",
            " 'POWRPLUS TRUCK' 'KAMA NINI TRUCK' 'BEYBEN TRUCK' 'SINO CRANE' 'ROLF'\n",
            " 'ROLLER LUTONG' 'DAMPER' 'FORKLIFT SHANTU' 'EXCAVATOR XCMG' 'DISCOVERY'\n",
            " 'KAMA LIGHT TRUCK' 'ROOLER POWERPOK' 'CRANELEBHER' 'CRANE LEBHERER' 'HH'\n",
            " 'MAGIRUS-DEUTZ' 'LEBHER CRANE' 'LIBEHER CRANE' 'CRANE ZOOMLIION'\n",
            " 'DOZER SHANTU' 'ROLER POWERPOK' 'EXCAVATOR JOYANG' 'LODER' 'AMI'\n",
            " 'HIGHBED' 'URSUS TRACTOR URSUS TRACTOR' 'URSUS TRACTOR' 'PEUGEOUT'\n",
            " 'EMGRAND' 'AGEL' 'LOADER POWERPLUS' 'CRANEZOOMLION' 'CRANE LEBEHER'\n",
            " 'KAT TRAILER' 'JOHNDEER CAMECO/GRAP LOADER' 'DGOIX' 'FRANKUN' 'NKG ENG'\n",
            " 'NAM' 'ASNAKE ENGINERING' 'H.H' 'ASNAKE ENGNERING' 'TOYOTA HIACE'\n",
            " 'TRAILED TANKER WITH FIRE EXTINGUISHER'\n",
            " 'TRAILED TANKKER WITH FIRE FIRE EXTINGUIS' 'FSR33' 'PEGO'\n",
            " 'DUMP TRUCK DFAC' 'AUMAN' 'MITSUBUSHI' 'KG' 'FRANKON' 'FORD*' 'GENLION'\n",
            " 'DFAC' 'UTONG' 'N2' 'OM' 'AREB EMERATE' 'KAT TRACTOR' 'SANIA' 'TALIAN'\n",
            " 'COASTER' 'COASTER BUS' 'MINIBUS' 'WAFA' 'FRANKUN ET' 'LEABER CATO CRANE'\n",
            " 'MAN TGS' 'TRACKS MOBILE DIMAGE CRANE' 'MISTIBUSH' 'NAMIE' 'DAMAS 2'\n",
            " 'CHINA SELONG' 'TELESCOPIC FORKLIFT' 'LOW BED SEMITRAILER\\n' 'GLEEY'\n",
            " 'TELESCOPIK FORKLIFT' 'MINIBUS 3L' 'CHINA ZENGIZO'\n",
            " 'CATERPILLAR FORKLIFTS' 'DOOSAN FORKLIFT' 'CATERPILLAR FORKLIFT'\n",
            " 'CAT GRADER' 'KAMA' 'YOUTONG BUS' 'TCM FORKLIFTS' 'FORKLIFTS'\n",
            " '4WDTUAB TERES COPIC HANDLER' 'POWER PLUS' ' FORKLIFT' 'FAW WATER TRUCK'\n",
            " 'KAMAMI' 'LOADER POERR PLUS' 'LOADER POWER PLUS' 'A'\n",
            " 'BAYBEN FIRE FIGHTER' 'MERCEDES AXOR' 'YALCIN' 'ARSLAN' 'VALTRA TRACTOR'\n",
            " 'SCRAPER' 'BMC FATIH' 'YOUTOGNMIDBUS' 'SANY PALFINGER STC250'\n",
            " 'MERCEDES / 2521-48' 'SANY SY309C-8 MIXER' 'HYUNDAY' 'SANY CONCRETE'\n",
            " 'MERCEDES ATEGO-KELES' 'LH202L' 'SANY PALFINGER STC750' 'AUTOBUS'\n",
            " 'SANY PALFINGER STC500' '2 AXEL LOWBED' 'XERION TRACTOR'\n",
            " 'SANY PALFINGER 23500B' 'XERION TARCTOR' 'FOED' 'HUMMER' 'URAL' 'URA'\n",
            " 'LANDINI DT125' 'FOTON AUMAN' 'MERCEDES BENZ' 'SAL DA29 YARI TRAILER'\n",
            " 'SAL LOWBED' 'ORAL CREAN' 'SCANIYA' 'MF' ' TOYOTA MINIBUS' 'FORD RANGER'\n",
            " 'ORICLE CREAN' 'ATZ' 'DAIMLER BENZ' 'ROAD-ROLLER' 'INFINITIVE' 'ZX TOP'\n",
            " 'ROAD-RPLLER' 'CHINA - BBN']\n",
            "Unique Values in USAGE: \n",
            "['Own Goods' 'General Cartage' 'Fare Paying Passengers' 'Taxi' 'Car Hires'\n",
            " 'Private' 'Own service' 'Agricultural Own Farm' 'Special Construction'\n",
            " 'Learnes' 'Ambulance' 'Agricultural Any Farm' 'Fire fighting' 'Others']\n"
          ]
        }
      ],
      "source": [
        "print(f\"Unique Values in INSR_TYPE: \\n {combined['INSR_TYPE'].unique()}\")\n",
        "print(f\"Unique Values in TYPE_VEHICLE: \\n{combined['TYPE_VEHICLE'].unique()}\")\n",
        "print(f\"Unique Values in MAKE: \\n{combined['MAKE'].unique()}\")\n",
        "print(f\"Unique Values in USAGE: \\n{combined['USAGE'].unique()}\")\n"
      ]
    },
    {
      "cell_type": "code",
      "execution_count": 74,
      "metadata": {
        "colab": {
          "base_uri": "https://localhost:8080/"
        },
        "id": "mC9aqxT79Afr",
        "outputId": "85d98d75-973b-466d-8c0f-79dfe8d281da"
      },
      "outputs": [
        {
          "name": "stdout",
          "output_type": "stream",
          "text": [
            "Index(['INSR_BEGIN', 'INSR_END'], dtype='object')\n"
          ]
        }
      ],
      "source": [
        "# This way of encoding may introduce issues such as overfitting\n",
        "\n",
        "combined = pd.get_dummies(combined, columns=['INSR_TYPE', 'TYPE_VEHICLE', 'MAKE', 'USAGE'])\n",
        "combined['EFFECTIVE_YR'] = combined['EFFECTIVE_YR'].astype(int)\n",
        "object_columns = combined.select_dtypes(include=['object'])\n",
        "print(object_columns.columns)"
      ]
    },
    {
      "cell_type": "code",
      "execution_count": 75,
      "metadata": {},
      "outputs": [],
      "source": [
        "from sklearn.model_selection import train_test_split, GridSearchCV\n",
        "df = combined.drop(['CARRYING_CAPACITY', 'INSR_BEGIN', 'INSR_END', 'OBJECT_ID'], axis=1)\n",
        "\n",
        "X = df.drop('PREMIUM', axis=1)\n",
        "y = df['PREMIUM']\n",
        "X_train, X_test, y_train, y_test,  = train_test_split(X, y, test_size=0.2 , random_state=100)"
      ]
    },
    {
      "cell_type": "code",
      "execution_count": 76,
      "metadata": {},
      "outputs": [],
      "source": [
        "from sklearn.metrics import mean_absolute_error, mean_squared_error, r2_score\n",
        "import numpy as np\n",
        "def get_scores(selected_model):\n",
        "\n",
        "\n",
        "    # Assuming 'model' is your trained regression model and 'X_test', 'y_test' are your test data\n",
        "\n",
        "    # Make predictions\n",
        "    y_pred = selected_model.predict(X_test)\n",
        "\n",
        "    # Calculate MAE, MSE, R², and RMSE\n",
        "    mae = mean_absolute_error(y_test, y_pred)\n",
        "    mse = mean_squared_error(y_test, y_pred)\n",
        "    r2 = r2_score(y_test, y_pred)\n",
        "    rmse = np.sqrt(mse)  # Calculate RMSE from MSE\n",
        "\n",
        "    print(f\"MAE: {mae}\")\n",
        "    print(f\"MSE: {mse}\")\n",
        "    print(f\"R-squared (R²): {r2}\")\n",
        "    print(f\"RMSE: {rmse}\")\n"
      ]
    },
    {
      "cell_type": "code",
      "execution_count": 77,
      "metadata": {},
      "outputs": [
        {
          "data": {
            "text/plain": [
              "array([22307.21439062,   759.38412067,  5026.90620635, ...,\n",
              "         161.0144874 , 11186.44144096,   682.2885074 ])"
            ]
          },
          "execution_count": 77,
          "metadata": {},
          "output_type": "execute_result"
        }
      ],
      "source": [
        "from sklearn.pipeline import Pipeline\n",
        "from sklearn.linear_model import LinearRegression, Ridge, Lasso\n",
        "import pandas as pd\n",
        "\n",
        "\n",
        "\n",
        "model = LinearRegression()\n",
        "\n",
        "model.fit(X_train, y_train)\n",
        "\n",
        "model.predict(X_test)\n"
      ]
    },
    {
      "cell_type": "code",
      "execution_count": 78,
      "metadata": {},
      "outputs": [
        {
          "name": "stdout",
          "output_type": "stream",
          "text": [
            "MAE: 3874.589957978106\n",
            "MSE: 48654280.5642557\n",
            "R-squared (R²): 0.6208349248787273\n",
            "RMSE: 6975.262042694575\n"
          ]
        }
      ],
      "source": [
        "get_scores(model)"
      ]
    },
    {
      "cell_type": "code",
      "execution_count": 79,
      "metadata": {},
      "outputs": [
        {
          "data": {
            "text/html": [
              "<style>#sk-container-id-5 {color: black;}#sk-container-id-5 pre{padding: 0;}#sk-container-id-5 div.sk-toggleable {background-color: white;}#sk-container-id-5 label.sk-toggleable__label {cursor: pointer;display: block;width: 100%;margin-bottom: 0;padding: 0.3em;box-sizing: border-box;text-align: center;}#sk-container-id-5 label.sk-toggleable__label-arrow:before {content: \"▸\";float: left;margin-right: 0.25em;color: #696969;}#sk-container-id-5 label.sk-toggleable__label-arrow:hover:before {color: black;}#sk-container-id-5 div.sk-estimator:hover label.sk-toggleable__label-arrow:before {color: black;}#sk-container-id-5 div.sk-toggleable__content {max-height: 0;max-width: 0;overflow: hidden;text-align: left;background-color: #f0f8ff;}#sk-container-id-5 div.sk-toggleable__content pre {margin: 0.2em;color: black;border-radius: 0.25em;background-color: #f0f8ff;}#sk-container-id-5 input.sk-toggleable__control:checked~div.sk-toggleable__content {max-height: 200px;max-width: 100%;overflow: auto;}#sk-container-id-5 input.sk-toggleable__control:checked~label.sk-toggleable__label-arrow:before {content: \"▾\";}#sk-container-id-5 div.sk-estimator input.sk-toggleable__control:checked~label.sk-toggleable__label {background-color: #d4ebff;}#sk-container-id-5 div.sk-label input.sk-toggleable__control:checked~label.sk-toggleable__label {background-color: #d4ebff;}#sk-container-id-5 input.sk-hidden--visually {border: 0;clip: rect(1px 1px 1px 1px);clip: rect(1px, 1px, 1px, 1px);height: 1px;margin: -1px;overflow: hidden;padding: 0;position: absolute;width: 1px;}#sk-container-id-5 div.sk-estimator {font-family: monospace;background-color: #f0f8ff;border: 1px dotted black;border-radius: 0.25em;box-sizing: border-box;margin-bottom: 0.5em;}#sk-container-id-5 div.sk-estimator:hover {background-color: #d4ebff;}#sk-container-id-5 div.sk-parallel-item::after {content: \"\";width: 100%;border-bottom: 1px solid gray;flex-grow: 1;}#sk-container-id-5 div.sk-label:hover label.sk-toggleable__label {background-color: #d4ebff;}#sk-container-id-5 div.sk-serial::before {content: \"\";position: absolute;border-left: 1px solid gray;box-sizing: border-box;top: 0;bottom: 0;left: 50%;z-index: 0;}#sk-container-id-5 div.sk-serial {display: flex;flex-direction: column;align-items: center;background-color: white;padding-right: 0.2em;padding-left: 0.2em;position: relative;}#sk-container-id-5 div.sk-item {position: relative;z-index: 1;}#sk-container-id-5 div.sk-parallel {display: flex;align-items: stretch;justify-content: center;background-color: white;position: relative;}#sk-container-id-5 div.sk-item::before, #sk-container-id-5 div.sk-parallel-item::before {content: \"\";position: absolute;border-left: 1px solid gray;box-sizing: border-box;top: 0;bottom: 0;left: 50%;z-index: -1;}#sk-container-id-5 div.sk-parallel-item {display: flex;flex-direction: column;z-index: 1;position: relative;background-color: white;}#sk-container-id-5 div.sk-parallel-item:first-child::after {align-self: flex-end;width: 50%;}#sk-container-id-5 div.sk-parallel-item:last-child::after {align-self: flex-start;width: 50%;}#sk-container-id-5 div.sk-parallel-item:only-child::after {width: 0;}#sk-container-id-5 div.sk-dashed-wrapped {border: 1px dashed gray;margin: 0 0.4em 0.5em 0.4em;box-sizing: border-box;padding-bottom: 0.4em;background-color: white;}#sk-container-id-5 div.sk-label label {font-family: monospace;font-weight: bold;display: inline-block;line-height: 1.2em;}#sk-container-id-5 div.sk-label-container {text-align: center;}#sk-container-id-5 div.sk-container {/* jupyter's `normalize.less` sets `[hidden] { display: none; }` but bootstrap.min.css set `[hidden] { display: none !important; }` so we also need the `!important` here to be able to override the default hidden behavior on the sphinx rendered scikit-learn.org. See: https://github.com/scikit-learn/scikit-learn/issues/21755 */display: inline-block !important;position: relative;}#sk-container-id-5 div.sk-text-repr-fallback {display: none;}</style><div id=\"sk-container-id-5\" class=\"sk-top-container\"><div class=\"sk-text-repr-fallback\"><pre>RandomForestRegressor(random_state=42)</pre><b>In a Jupyter environment, please rerun this cell to show the HTML representation or trust the notebook. <br />On GitHub, the HTML representation is unable to render, please try loading this page with nbviewer.org.</b></div><div class=\"sk-container\" hidden><div class=\"sk-item\"><div class=\"sk-estimator sk-toggleable\"><input class=\"sk-toggleable__control sk-hidden--visually\" id=\"sk-estimator-id-7\" type=\"checkbox\" checked><label for=\"sk-estimator-id-7\" class=\"sk-toggleable__label sk-toggleable__label-arrow\">RandomForestRegressor</label><div class=\"sk-toggleable__content\"><pre>RandomForestRegressor(random_state=42)</pre></div></div></div></div></div>"
            ],
            "text/plain": [
              "RandomForestRegressor(random_state=42)"
            ]
          },
          "execution_count": 79,
          "metadata": {},
          "output_type": "execute_result"
        }
      ],
      "source": [
        "# Import necessary libraries\n",
        "from sklearn.ensemble import RandomForestRegressor\n",
        "from sklearn.metrics import r2_score\n",
        "\n",
        "# Creating and training the Random Forest model\n",
        "forest_model = RandomForestRegressor(random_state=42)\n",
        "forest_model.fit(X_train, y_train)\n",
        "\n",
        "\n"
      ]
    },
    {
      "cell_type": "code",
      "execution_count": 80,
      "metadata": {},
      "outputs": [
        {
          "name": "stdout",
          "output_type": "stream",
          "text": [
            "MAE: 1738.196554049574\n",
            "MSE: 20872834.093046494\n",
            "R-squared (R²): 0.8373370314985582\n",
            "RMSE: 4568.679688164459\n"
          ]
        }
      ],
      "source": [
        "get_scores(forest_model)"
      ]
    },
    {
      "cell_type": "code",
      "execution_count": 81,
      "metadata": {},
      "outputs": [
        {
          "data": {
            "text/html": [
              "<style>#sk-container-id-6 {color: black;}#sk-container-id-6 pre{padding: 0;}#sk-container-id-6 div.sk-toggleable {background-color: white;}#sk-container-id-6 label.sk-toggleable__label {cursor: pointer;display: block;width: 100%;margin-bottom: 0;padding: 0.3em;box-sizing: border-box;text-align: center;}#sk-container-id-6 label.sk-toggleable__label-arrow:before {content: \"▸\";float: left;margin-right: 0.25em;color: #696969;}#sk-container-id-6 label.sk-toggleable__label-arrow:hover:before {color: black;}#sk-container-id-6 div.sk-estimator:hover label.sk-toggleable__label-arrow:before {color: black;}#sk-container-id-6 div.sk-toggleable__content {max-height: 0;max-width: 0;overflow: hidden;text-align: left;background-color: #f0f8ff;}#sk-container-id-6 div.sk-toggleable__content pre {margin: 0.2em;color: black;border-radius: 0.25em;background-color: #f0f8ff;}#sk-container-id-6 input.sk-toggleable__control:checked~div.sk-toggleable__content {max-height: 200px;max-width: 100%;overflow: auto;}#sk-container-id-6 input.sk-toggleable__control:checked~label.sk-toggleable__label-arrow:before {content: \"▾\";}#sk-container-id-6 div.sk-estimator input.sk-toggleable__control:checked~label.sk-toggleable__label {background-color: #d4ebff;}#sk-container-id-6 div.sk-label input.sk-toggleable__control:checked~label.sk-toggleable__label {background-color: #d4ebff;}#sk-container-id-6 input.sk-hidden--visually {border: 0;clip: rect(1px 1px 1px 1px);clip: rect(1px, 1px, 1px, 1px);height: 1px;margin: -1px;overflow: hidden;padding: 0;position: absolute;width: 1px;}#sk-container-id-6 div.sk-estimator {font-family: monospace;background-color: #f0f8ff;border: 1px dotted black;border-radius: 0.25em;box-sizing: border-box;margin-bottom: 0.5em;}#sk-container-id-6 div.sk-estimator:hover {background-color: #d4ebff;}#sk-container-id-6 div.sk-parallel-item::after {content: \"\";width: 100%;border-bottom: 1px solid gray;flex-grow: 1;}#sk-container-id-6 div.sk-label:hover label.sk-toggleable__label {background-color: #d4ebff;}#sk-container-id-6 div.sk-serial::before {content: \"\";position: absolute;border-left: 1px solid gray;box-sizing: border-box;top: 0;bottom: 0;left: 50%;z-index: 0;}#sk-container-id-6 div.sk-serial {display: flex;flex-direction: column;align-items: center;background-color: white;padding-right: 0.2em;padding-left: 0.2em;position: relative;}#sk-container-id-6 div.sk-item {position: relative;z-index: 1;}#sk-container-id-6 div.sk-parallel {display: flex;align-items: stretch;justify-content: center;background-color: white;position: relative;}#sk-container-id-6 div.sk-item::before, #sk-container-id-6 div.sk-parallel-item::before {content: \"\";position: absolute;border-left: 1px solid gray;box-sizing: border-box;top: 0;bottom: 0;left: 50%;z-index: -1;}#sk-container-id-6 div.sk-parallel-item {display: flex;flex-direction: column;z-index: 1;position: relative;background-color: white;}#sk-container-id-6 div.sk-parallel-item:first-child::after {align-self: flex-end;width: 50%;}#sk-container-id-6 div.sk-parallel-item:last-child::after {align-self: flex-start;width: 50%;}#sk-container-id-6 div.sk-parallel-item:only-child::after {width: 0;}#sk-container-id-6 div.sk-dashed-wrapped {border: 1px dashed gray;margin: 0 0.4em 0.5em 0.4em;box-sizing: border-box;padding-bottom: 0.4em;background-color: white;}#sk-container-id-6 div.sk-label label {font-family: monospace;font-weight: bold;display: inline-block;line-height: 1.2em;}#sk-container-id-6 div.sk-label-container {text-align: center;}#sk-container-id-6 div.sk-container {/* jupyter's `normalize.less` sets `[hidden] { display: none; }` but bootstrap.min.css set `[hidden] { display: none !important; }` so we also need the `!important` here to be able to override the default hidden behavior on the sphinx rendered scikit-learn.org. See: https://github.com/scikit-learn/scikit-learn/issues/21755 */display: inline-block !important;position: relative;}#sk-container-id-6 div.sk-text-repr-fallback {display: none;}</style><div id=\"sk-container-id-6\" class=\"sk-top-container\"><div class=\"sk-text-repr-fallback\"><pre>DecisionTreeRegressor(random_state=42)</pre><b>In a Jupyter environment, please rerun this cell to show the HTML representation or trust the notebook. <br />On GitHub, the HTML representation is unable to render, please try loading this page with nbviewer.org.</b></div><div class=\"sk-container\" hidden><div class=\"sk-item\"><div class=\"sk-estimator sk-toggleable\"><input class=\"sk-toggleable__control sk-hidden--visually\" id=\"sk-estimator-id-8\" type=\"checkbox\" checked><label for=\"sk-estimator-id-8\" class=\"sk-toggleable__label sk-toggleable__label-arrow\">DecisionTreeRegressor</label><div class=\"sk-toggleable__content\"><pre>DecisionTreeRegressor(random_state=42)</pre></div></div></div></div></div>"
            ],
            "text/plain": [
              "DecisionTreeRegressor(random_state=42)"
            ]
          },
          "execution_count": 81,
          "metadata": {},
          "output_type": "execute_result"
        }
      ],
      "source": [
        "#lets also now test a decision tree\n",
        "# Import necessary libraries\n",
        "from sklearn.model_selection import train_test_split\n",
        "from sklearn.tree import DecisionTreeRegressor\n",
        "from sklearn.metrics import r2_score\n",
        "\n",
        "# Creating and training the decision tree model\n",
        "tree_model = DecisionTreeRegressor(random_state=42)\n",
        "tree_model.fit(X_train, y_train)\n",
        "\n"
      ]
    },
    {
      "cell_type": "code",
      "execution_count": 82,
      "metadata": {},
      "outputs": [
        {
          "name": "stdout",
          "output_type": "stream",
          "text": [
            "MAE: 1855.5909456309637\n",
            "MSE: 25109428.965159766\n",
            "R-squared (R²): 0.8043210502875779\n",
            "RMSE: 5010.9309479536605\n"
          ]
        }
      ],
      "source": [
        "get_scores(tree_model)"
      ]
    },
    {
      "cell_type": "code",
      "execution_count": 90,
      "metadata": {},
      "outputs": [
        {
          "name": "stderr",
          "output_type": "stream",
          "text": [
            "c:\\Users\\seans\\AppData\\Local\\Programs\\Python\\Python311\\Lib\\site-packages\\sklearn\\base.py:465: UserWarning: X does not have valid feature names, but LinearRegression was fitted with feature names\n",
            "  warnings.warn(\n"
          ]
        },
        {
          "data": {
            "text/plain": [
              "<Axes: title={'center': 'Prediction Error for Regression'}, xlabel='$y$', ylabel='$\\\\hat{y}$'>"
            ]
          },
          "execution_count": 90,
          "metadata": {},
          "output_type": "execute_result"
        },
        {
          "data": {
            "image/png": "[encoded data removed]",
            "text/plain": [
              "<Figure size 800x550 with 1 Axes>"
            ]
          },
          "metadata": {},
          "output_type": "display_data"
        }
      ],
      "source": [
        "from yellowbrick.regressor import PredictionError\n",
        "from sklearn.metrics import r2_score\n",
        "\n",
        "y_pred = model.predict(X_test)\n",
        "\n",
        "r2 = r2_score(y_test, y_pred)\n",
        "\n",
        "\n",
        "visualizer = PredictionError(model, title=\"Prediction Error for Regression\", xlabel=\"Predicted Value\", ylabel=\"True Value\")\n",
        "visualizer.fit(X_train, y_train)\n",
        "visualizer.score(X_test, y_test)\n",
        "visualizer.show(outpath=\"Regression_prediction_error_visualization.png\") \n",
        "\n"
      ]
    },
    {
      "cell_type": "code",
      "execution_count": 93,
      "metadata": {},
      "outputs": [
        {
          "name": "stderr",
          "output_type": "stream",
          "text": [
            "c:\\Users\\seans\\AppData\\Local\\Programs\\Python\\Python311\\Lib\\site-packages\\sklearn\\base.py:465: UserWarning: X does not have valid feature names, but RandomForestRegressor was fitted with feature names\n",
            "  warnings.warn(\n"
          ]
        },
        {
          "data": {
            "text/plain": [
              "<Axes: title={'center': 'Prediction Error for RandomForestRegressor'}, xlabel='$y$', ylabel='$\\\\hat{y}$'>"
            ]
          },
          "execution_count": 93,
          "metadata": {},
          "output_type": "execute_result"
        },
        {
          "data": {
            "image/png": "[encoded data removed]",
            "text/plain": [
              "<Figure size 800x550 with 1 Axes>"
            ]
          },
          "metadata": {},
          "output_type": "display_data"
        }
      ],
      "source": [
        "from yellowbrick.regressor import PredictionError\n",
        "from sklearn.metrics import r2_score\n",
        "\n",
        "y_pred = forest_model.predict(X_test)\n",
        "\n",
        "r2 = r2_score(y_test, y_pred)\n",
        "\n",
        "\n",
        "visualizer = PredictionError(forest_model, title=\"Prediction Error for RandomForestRegressor\", xlabel=\"Predicted Value\", ylabel=\"True Value\")\n",
        "visualizer.fit(X_train, y_train)\n",
        "visualizer.score(X_test, y_test)\n",
        "visualizer.show(outpath=\"Forest_prediction_error_visualization.png\") \n"
      ]
    },
    {
      "cell_type": "code",
      "execution_count": 92,
      "metadata": {},
      "outputs": [
        {
          "name": "stderr",
          "output_type": "stream",
          "text": [
            "c:\\Users\\seans\\AppData\\Local\\Programs\\Python\\Python311\\Lib\\site-packages\\sklearn\\base.py:465: UserWarning: X does not have valid feature names, but DecisionTreeRegressor was fitted with feature names\n",
            "  warnings.warn(\n"
          ]
        },
        {
          "data": {
            "text/plain": [
              "<Axes: title={'center': 'Prediction Error for Regression'}, xlabel='$y$', ylabel='$\\\\hat{y}$'>"
            ]
          },
          "execution_count": 92,
          "metadata": {},
          "output_type": "execute_result"
        },
        {
          "data": {
            "image/png": "[encoded data removed]",
            "text/plain": [
              "<Figure size 800x550 with 1 Axes>"
            ]
          },
          "metadata": {},
          "output_type": "display_data"
        }
      ],
      "source": [
        "y_pred = tree_model.predict(X_test)\n",
        "\n",
        "r2 = r2_score(y_test, y_pred)\n",
        "\n",
        "\n",
        "visualizer = PredictionError(tree_model, title=\"Prediction Error for Regression\", xlabel=\"Predicted Value\", ylabel=\"True Value\")\n",
        "visualizer.fit(X_train, y_train)\n",
        "visualizer.score(X_test, y_test)\n",
        "visualizer.show(outpath=\"Tree_prediction_error_visualization.png\") \n",
        "\n"
      ]
    }
  ],
  "metadata": {
    "colab": {
      "provenance": []
    },
    "kernelspec": {
      "display_name": "Python 3",
      "language": "python",
      "name": "python3"
    },
    "language_info": {
      "codemirror_mode": {
        "name": "ipython",
        "version": 3
      },
      "file_extension": ".py",
      "mimetype": "text/x-python",
      "name": "python",
      "nbconvert_exporter": "python",
      "pygments_lexer": "ipython3",
      "version": "3.11.5"
    }
  },
  "nbformat": 4,
  "nbformat_minor": 0
}
